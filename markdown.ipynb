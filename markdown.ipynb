{
 "cells": [
  {
   "cell_type": "markdown",
   "id": "artistic-entry",
   "metadata": {},
   "source": [
    "# Markdown"
   ]
  },
  {
   "cell_type": "code",
   "execution_count": 3,
   "id": "aboriginal-designer",
   "metadata": {},
   "outputs": [
    {
     "ename": "SyntaxError",
     "evalue": "invalid syntax (<ipython-input-3-482adb132e8c>, line 2)",
     "output_type": "error",
     "traceback": [
      "\u001b[0;36m  File \u001b[0;32m\"<ipython-input-3-482adb132e8c>\"\u001b[0;36m, line \u001b[0;32m2\u001b[0m\n\u001b[0;31m    Shows a pop-up window listing out all keyboard shortcuts\u001b[0m\n\u001b[0m          ^\u001b[0m\n\u001b[0;31mSyntaxError\u001b[0m\u001b[0;31m:\u001b[0m invalid syntax\n"
     ]
    }
   ],
   "source": [
    "h\n",
    "Shows a pop-up window listing out all keyboard shortcuts\n",
    "\n",
    "cmd + shift + p\n",
    "Shows the Command Palette\n",
    "\n",
    "enter\n",
    "Goes into Edit Mode (green) for the currently selected cell\n",
    "\n",
    "ctrl + enter\n",
    "Runs the selected cell\n",
    "\n",
    "shift + enter\n",
    "Runs the selected cell; Selects the cell below\n",
    "\n",
    "option + shift + enter (Mac)\n",
    "Runs the selected cell; Adds a new cell below; Enters the new cell in Edit Mode\n",
    "\n",
    "A\n",
    "Inserts a new cell above the currently-selected cell\n",
    "\n",
    "B\n",
    "Inserts a new cell below the currently-selected cell\n",
    "\n",
    "C\n",
    "Copies the currently-selected cell(s)\n",
    "\n",
    "V\n",
    "Pastes a cell(s) that have been C Copied as new cell(s) below the currently-selected cell\n",
    "\n",
    "shift + V\n",
    "Pastes a cell(s) that have been C Copied as new cell(s) above the currently-selected cell\n",
    "\n",
    "D D (the 'D' key twice)\n",
    "Deletes the currently selected cell(s)\n",
    "\n",
    "Shift + Click Cell\n",
    "Highlights the range of cells between the one that was selected, and the one that you clicked...just like Shift-\n",
    "Clicking a series of files\n",
    "\n",
    "Shift + M\n",
    "Merges any highlighted cells that had been Shift-Clicked;\n",
    "If only one cel is selected, it merges the selected cell with the cell directly below\n",
    "\n",
    "M\n",
    "Changes the cell's type to Markdown; If the cell is run, it will be executed as Markdown and the output will be formatted and shown; Helpful for providing documentation in the notebook\n",
    "\n",
    "Y\n",
    "Changes the cell's type to Code; If the cell is run, it will be executed as code and the output displayed below the cell\n",
    "\n",
    "esc\n",
    "Goes back to Command Mode (Blue)\n",
    "\n",
    "cmd + shift + p (Mac)\n",
    "Shows the Command Palette\n",
    "\n",
    "ctrl + enter\n",
    "Runs the selected cell\n",
    "\n",
    "shift + enter\n",
    "Runs the selected cell; Selects the cell below\n",
    "\n",
    "option + shift + enter (Mac)\n",
    "Runs the selected cell; Adds a new cell below; Enters the new cell in Edit Mode\n",
    "\n",
    "cmd + click (Mac)\n",
    "Creates multiple cursors for multi-cursor editing\n",
    "\n",
    "cmd + / (Mac)\n",
    "Toggles whether or not the line(s) of code are commented out or not\n",
    "\n",
    "tab\n",
    "Engages code completion if you're typing code; Indents the line of code if you're at the beginning of a line\n",
    "\n",
    "shift + tab\n",
    "Displays a tooltip if you're typing code; helpful for referencing function parameters\n",
    "\n",
    "ctrl + shift + -\n",
    "Splits the cell into two cells where your cursor is located"
   ]
  },
  {
   "cell_type": "code",
   "execution_count": null,
   "id": "second-qatar",
   "metadata": {},
   "outputs": [],
   "source": []
  }
 ],
 "metadata": {
  "kernelspec": {
   "display_name": "Python [conda env:root] *",
   "language": "python",
   "name": "conda-root-py"
  },
  "language_info": {
   "codemirror_mode": {
    "name": "ipython",
    "version": 3
   },
   "file_extension": ".py",
   "mimetype": "text/x-python",
   "name": "python",
   "nbconvert_exporter": "python",
   "pygments_lexer": "ipython3",
   "version": "3.8.8"
  }
 },
 "nbformat": 4,
 "nbformat_minor": 5
}
